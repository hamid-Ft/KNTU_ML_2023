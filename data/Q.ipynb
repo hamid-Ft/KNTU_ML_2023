{
 "cells": [
  {
   "cell_type": "markdown",
   "id": "51cd8e4a",
   "metadata": {
    "id": "0qGrVrvcp--0",
    "papermill": {
     "duration": 0.007509,
     "end_time": "2023-03-09T10:46:15.583686",
     "exception": false,
     "start_time": "2023-03-09T10:46:15.576177",
     "status": "completed"
    },
    "tags": []
   },
   "source": [
    "# Special Topics I Problem Set 5 (Classification)"
   ]
  },
  {
   "cell_type": "markdown",
   "metadata": {},
   "source": [
    "First of all, download the dataset needed to do this exercise from this <a href=\"https://github.com/mzhoolideh/KNTU_ML_2023/blob/main/data/ps5data.csv\" download>link</a>."
   ]
  },
  {
   "cell_type": "markdown",
   "id": "28d99cba",
   "metadata": {
    "id": "99ybK23wexQB",
    "papermill": {
     "duration": 0.005634,
     "end_time": "2023-03-09T10:46:15.596050",
     "exception": false,
     "start_time": "2023-03-09T10:46:15.590416",
     "status": "completed"
    },
    "tags": []
   },
   "source": [
    "The dataset provided to you includes several features of stars.\n",
    "\n",
    "Some of them are:\n",
    "\n",
    "- Absolute Temperature (in $K$)\n",
    "- Relative Luminosity ($L/L_{\\odot}$)\n",
    "- Relative Radius ($R/R_{\\odot}$)\n",
    "- Absolute Magnitude ($M_{v}$)\n",
    "- Star Color (**White**, **Red**, **Blue**, **Yellow**, **yellow-orange** etc)\n",
    "- Spectral Class (**O**, **B**, **A**, **F**, **G**, **K**, **M**)\n",
    "- Star Type (**Red Dwarf**, **Brown Dwarf**, **White Dwarf**, **Main Sequence**, **SuperGiants**, **HyperGiants**)\n",
    "- $L_{\\odot} = 3.828 \\times 10^{26} \\; \\text{Watts}$ (Average Luminosity of Sun)\n",
    "- $R_{\\odot} = 6.9551 \\times 10^{8} \\; \\text{m}$ (Average Radius of Sun)"
   ]
  },
  {
   "cell_type": "markdown",
   "metadata": {},
   "source": [
    "Import necessary libraries"
   ]
  },
  {
   "cell_type": "code",
   "execution_count": 61,
   "id": "41ecf60a",
   "metadata": {
    "execution": {
     "iopub.execute_input": "2023-03-09T10:46:15.609865Z",
     "iopub.status.busy": "2023-03-09T10:46:15.609398Z",
     "iopub.status.idle": "2023-03-09T10:46:15.619817Z",
     "shell.execute_reply": "2023-03-09T10:46:15.618591Z"
    },
    "id": "H2oCFJGuy37u",
    "papermill": {
     "duration": 0.020493,
     "end_time": "2023-03-09T10:46:15.622480",
     "exception": false,
     "start_time": "2023-03-09T10:46:15.601987",
     "status": "completed"
    },
    "tags": []
   },
   "outputs": [],
   "source": [
    "# Do it.\n",
    "import numpy as np\n",
    "import pandas as pd\n",
    "import matplotlib.pyplot as plt\n",
    "from sklearn.model_selection import train_test_split\n",
    "from sklearn.linear_model import LogisticRegression"
   ]
  },
  {
   "cell_type": "markdown",
   "metadata": {},
   "source": [
    "Read the dataset and store it in a variable."
   ]
  },
  {
   "cell_type": "code",
   "execution_count": 62,
   "id": "8eb67146",
   "metadata": {
    "execution": {
     "iopub.execute_input": "2023-03-09T10:46:15.636860Z",
     "iopub.status.busy": "2023-03-09T10:46:15.636026Z",
     "iopub.status.idle": "2023-03-09T10:46:16.065580Z",
     "shell.execute_reply": "2023-03-09T10:46:16.064219Z"
    },
    "id": "pvrtYImUy7hC",
    "papermill": {
     "duration": 0.439824,
     "end_time": "2023-03-09T10:46:16.068421",
     "exception": false,
     "start_time": "2023-03-09T10:46:15.628597",
     "status": "completed"
    },
    "tags": []
   },
   "outputs": [],
   "source": [
    "# Do it.\n",
    "df = pd.read_csv('../../data/ps5data.csv')"
   ]
  },
  {
   "cell_type": "markdown",
   "metadata": {},
   "source": [
    "## Part 1: Data Analysis and Preprocessing"
   ]
  },
  {
   "cell_type": "markdown",
   "metadata": {},
   "source": [
    "Display the first $5$ rows of the dataset."
   ]
  },
  {
   "cell_type": "code",
   "execution_count": 63,
   "id": "370e9190",
   "metadata": {
    "execution": {
     "iopub.execute_input": "2023-03-09T10:46:16.082890Z",
     "iopub.status.busy": "2023-03-09T10:46:16.081732Z",
     "iopub.status.idle": "2023-03-09T10:46:16.111812Z",
     "shell.execute_reply": "2023-03-09T10:46:16.110574Z"
    },
    "id": "ltkYXmdz-_z3",
    "outputId": "65f6131d-230b-491f-e662-38ef3296ee70",
    "papermill": {
     "duration": 0.040736,
     "end_time": "2023-03-09T10:46:16.115161",
     "exception": false,
     "start_time": "2023-03-09T10:46:16.074425",
     "status": "completed"
    },
    "tags": []
   },
   "outputs": [
    {
     "data": {
      "text/html": [
       "<div>\n",
       "<style scoped>\n",
       "    .dataframe tbody tr th:only-of-type {\n",
       "        vertical-align: middle;\n",
       "    }\n",
       "\n",
       "    .dataframe tbody tr th {\n",
       "        vertical-align: top;\n",
       "    }\n",
       "\n",
       "    .dataframe thead th {\n",
       "        text-align: right;\n",
       "    }\n",
       "</style>\n",
       "<table border=\"1\" class=\"dataframe\">\n",
       "  <thead>\n",
       "    <tr style=\"text-align: right;\">\n",
       "      <th></th>\n",
       "      <th>Temperature (K)</th>\n",
       "      <th>Luminosity (L/Lo)</th>\n",
       "      <th>Radius (R/Ro)</th>\n",
       "      <th>Absolute magnitude (Mv)</th>\n",
       "      <th>Star type</th>\n",
       "      <th>Star category</th>\n",
       "      <th>Star color</th>\n",
       "      <th>Spectral Class</th>\n",
       "    </tr>\n",
       "  </thead>\n",
       "  <tbody>\n",
       "    <tr>\n",
       "      <th>0</th>\n",
       "      <td>3068</td>\n",
       "      <td>0.002400</td>\n",
       "      <td>0.1700</td>\n",
       "      <td>16.12</td>\n",
       "      <td>0</td>\n",
       "      <td>Brown Dwarf</td>\n",
       "      <td>Red</td>\n",
       "      <td>M</td>\n",
       "    </tr>\n",
       "    <tr>\n",
       "      <th>1</th>\n",
       "      <td>3042</td>\n",
       "      <td>0.000500</td>\n",
       "      <td>0.1542</td>\n",
       "      <td>16.60</td>\n",
       "      <td>0</td>\n",
       "      <td>Brown Dwarf</td>\n",
       "      <td>Red</td>\n",
       "      <td>M</td>\n",
       "    </tr>\n",
       "    <tr>\n",
       "      <th>2</th>\n",
       "      <td>2600</td>\n",
       "      <td>0.000300</td>\n",
       "      <td>0.1020</td>\n",
       "      <td>18.70</td>\n",
       "      <td>0</td>\n",
       "      <td>Brown Dwarf</td>\n",
       "      <td>Red</td>\n",
       "      <td>M</td>\n",
       "    </tr>\n",
       "    <tr>\n",
       "      <th>3</th>\n",
       "      <td>2800</td>\n",
       "      <td>0.000200</td>\n",
       "      <td>0.1600</td>\n",
       "      <td>16.65</td>\n",
       "      <td>0</td>\n",
       "      <td>Brown Dwarf</td>\n",
       "      <td>Red</td>\n",
       "      <td>M</td>\n",
       "    </tr>\n",
       "    <tr>\n",
       "      <th>4</th>\n",
       "      <td>1939</td>\n",
       "      <td>0.000138</td>\n",
       "      <td>0.1030</td>\n",
       "      <td>20.06</td>\n",
       "      <td>0</td>\n",
       "      <td>Brown Dwarf</td>\n",
       "      <td>Red</td>\n",
       "      <td>M</td>\n",
       "    </tr>\n",
       "  </tbody>\n",
       "</table>\n",
       "</div>"
      ],
      "text/plain": [
       "   Temperature (K)  Luminosity (L/Lo)  Radius (R/Ro)  Absolute magnitude (Mv)  \\\n",
       "0             3068           0.002400         0.1700                    16.12   \n",
       "1             3042           0.000500         0.1542                    16.60   \n",
       "2             2600           0.000300         0.1020                    18.70   \n",
       "3             2800           0.000200         0.1600                    16.65   \n",
       "4             1939           0.000138         0.1030                    20.06   \n",
       "\n",
       "   Star type Star category Star color Spectral Class  \n",
       "0          0   Brown Dwarf        Red              M  \n",
       "1          0   Brown Dwarf        Red              M  \n",
       "2          0   Brown Dwarf        Red              M  \n",
       "3          0   Brown Dwarf        Red              M  \n",
       "4          0   Brown Dwarf        Red              M  "
      ]
     },
     "execution_count": 63,
     "metadata": {},
     "output_type": "execute_result"
    }
   ],
   "source": [
    "# Do it.\n",
    "df.head(5)"
   ]
  },
  {
   "cell_type": "markdown",
   "metadata": {},
   "source": [
    "Is there any missing data in the dataset provided to you? Show the number of missing data in each column of the dataset."
   ]
  },
  {
   "cell_type": "code",
   "execution_count": 64,
   "metadata": {},
   "outputs": [
    {
     "name": "stdout",
     "output_type": "stream",
     "text": [
      "Temperature (K)            0\n",
      "Luminosity (L/Lo)          0\n",
      "Radius (R/Ro)              0\n",
      "Absolute magnitude (Mv)    0\n",
      "Star type                  0\n",
      "Star category              0\n",
      "Star color                 0\n",
      "Spectral Class             0\n",
      "dtype: int64\n",
      "(240, 8)\n"
     ]
    }
   ],
   "source": [
    "# Do it.\n",
    "mising_data = df.isnull().sum()\n",
    "print(mising_data)\n",
    "print(df.shape)"
   ]
  },
  {
   "cell_type": "markdown",
   "metadata": {},
   "source": [
    "Display the number of non-null data in each column, the datatype of the data in each column, and the size of the dataset in the RAM space of your system."
   ]
  },
  {
   "cell_type": "code",
   "execution_count": 65,
   "id": "dcbff7e1",
   "metadata": {
    "execution": {
     "iopub.execute_input": "2023-03-09T10:46:16.129558Z",
     "iopub.status.busy": "2023-03-09T10:46:16.129164Z",
     "iopub.status.idle": "2023-03-09T10:46:16.155166Z",
     "shell.execute_reply": "2023-03-09T10:46:16.153515Z"
    },
    "id": "f0XHmtvL_CGZ",
    "outputId": "4fe51aba-15f6-4863-efe5-af86ba344be0",
    "papermill": {
     "duration": 0.036582,
     "end_time": "2023-03-09T10:46:16.157996",
     "exception": false,
     "start_time": "2023-03-09T10:46:16.121414",
     "status": "completed"
    },
    "tags": []
   },
   "outputs": [
    {
     "name": "stdout",
     "output_type": "stream",
     "text": [
      "<class 'pandas.core.frame.DataFrame'>\n",
      "RangeIndex: 240 entries, 0 to 239\n",
      "Data columns (total 8 columns):\n",
      " #   Column                   Non-Null Count  Dtype  \n",
      "---  ------                   --------------  -----  \n",
      " 0   Temperature (K)          240 non-null    int64  \n",
      " 1   Luminosity (L/Lo)        240 non-null    float64\n",
      " 2   Radius (R/Ro)            240 non-null    float64\n",
      " 3   Absolute magnitude (Mv)  240 non-null    float64\n",
      " 4   Star type                240 non-null    int64  \n",
      " 5   Star category            240 non-null    object \n",
      " 6   Star color               240 non-null    object \n",
      " 7   Spectral Class           240 non-null    object \n",
      "dtypes: float64(3), int64(2), object(3)\n",
      "memory usage: 15.1+ KB\n",
      "Total Memory Usage: 54824 bytes\n"
     ]
    }
   ],
   "source": [
    "# Do it.\n",
    "df.info()\n",
    "total_memory_usage = df.memory_usage(deep=True).sum()\n",
    "print(f\"Total Memory Usage: {total_memory_usage} bytes\")\n"
   ]
  },
  {
   "cell_type": "markdown",
   "metadata": {},
   "source": [
    "Display the **count**, **mean**, **standard deviation**, **minimum**, **first quartile**, **median**, **third quartile**, and **maximum** data of numeric columns from this dataset in another dataset."
   ]
  },
  {
   "cell_type": "code",
   "execution_count": 66,
   "id": "189a3983",
   "metadata": {
    "execution": {
     "iopub.execute_input": "2023-03-09T10:46:16.173453Z",
     "iopub.status.busy": "2023-03-09T10:46:16.172549Z",
     "iopub.status.idle": "2023-03-09T10:46:16.204642Z",
     "shell.execute_reply": "2023-03-09T10:46:16.203325Z"
    },
    "id": "tmpkna_P4Wnn",
    "outputId": "89f9b65e-0636-4022-8721-13fbd9a9177f",
    "papermill": {
     "duration": 0.04307,
     "end_time": "2023-03-09T10:46:16.207436",
     "exception": false,
     "start_time": "2023-03-09T10:46:16.164366",
     "status": "completed"
    },
    "tags": []
   },
   "outputs": [
    {
     "data": {
      "text/html": [
       "<div>\n",
       "<style scoped>\n",
       "    .dataframe tbody tr th:only-of-type {\n",
       "        vertical-align: middle;\n",
       "    }\n",
       "\n",
       "    .dataframe tbody tr th {\n",
       "        vertical-align: top;\n",
       "    }\n",
       "\n",
       "    .dataframe thead th {\n",
       "        text-align: right;\n",
       "    }\n",
       "</style>\n",
       "<table border=\"1\" class=\"dataframe\">\n",
       "  <thead>\n",
       "    <tr style=\"text-align: right;\">\n",
       "      <th></th>\n",
       "      <th>Temperature (K)</th>\n",
       "      <th>Luminosity (L/Lo)</th>\n",
       "      <th>Radius (R/Ro)</th>\n",
       "      <th>Absolute magnitude (Mv)</th>\n",
       "      <th>Star type</th>\n",
       "    </tr>\n",
       "  </thead>\n",
       "  <tbody>\n",
       "    <tr>\n",
       "      <th>count</th>\n",
       "      <td>240.000000</td>\n",
       "      <td>240.000000</td>\n",
       "      <td>240.000000</td>\n",
       "      <td>240.000000</td>\n",
       "      <td>240.000000</td>\n",
       "    </tr>\n",
       "    <tr>\n",
       "      <th>mean</th>\n",
       "      <td>10497.462500</td>\n",
       "      <td>107188.361635</td>\n",
       "      <td>237.157781</td>\n",
       "      <td>4.382396</td>\n",
       "      <td>2.500000</td>\n",
       "    </tr>\n",
       "    <tr>\n",
       "      <th>std</th>\n",
       "      <td>9552.425037</td>\n",
       "      <td>179432.244940</td>\n",
       "      <td>517.155763</td>\n",
       "      <td>10.532512</td>\n",
       "      <td>1.711394</td>\n",
       "    </tr>\n",
       "    <tr>\n",
       "      <th>min</th>\n",
       "      <td>1939.000000</td>\n",
       "      <td>0.000080</td>\n",
       "      <td>0.008400</td>\n",
       "      <td>-11.920000</td>\n",
       "      <td>0.000000</td>\n",
       "    </tr>\n",
       "    <tr>\n",
       "      <th>25%</th>\n",
       "      <td>3344.250000</td>\n",
       "      <td>0.000865</td>\n",
       "      <td>0.102750</td>\n",
       "      <td>-6.232500</td>\n",
       "      <td>1.000000</td>\n",
       "    </tr>\n",
       "    <tr>\n",
       "      <th>50%</th>\n",
       "      <td>5776.000000</td>\n",
       "      <td>0.070500</td>\n",
       "      <td>0.762500</td>\n",
       "      <td>8.313000</td>\n",
       "      <td>2.500000</td>\n",
       "    </tr>\n",
       "    <tr>\n",
       "      <th>75%</th>\n",
       "      <td>15055.500000</td>\n",
       "      <td>198050.000000</td>\n",
       "      <td>42.750000</td>\n",
       "      <td>13.697500</td>\n",
       "      <td>4.000000</td>\n",
       "    </tr>\n",
       "    <tr>\n",
       "      <th>max</th>\n",
       "      <td>40000.000000</td>\n",
       "      <td>849420.000000</td>\n",
       "      <td>1948.500000</td>\n",
       "      <td>20.060000</td>\n",
       "      <td>5.000000</td>\n",
       "    </tr>\n",
       "  </tbody>\n",
       "</table>\n",
       "</div>"
      ],
      "text/plain": [
       "       Temperature (K)  Luminosity (L/Lo)  Radius (R/Ro)  \\\n",
       "count       240.000000         240.000000     240.000000   \n",
       "mean      10497.462500      107188.361635     237.157781   \n",
       "std        9552.425037      179432.244940     517.155763   \n",
       "min        1939.000000           0.000080       0.008400   \n",
       "25%        3344.250000           0.000865       0.102750   \n",
       "50%        5776.000000           0.070500       0.762500   \n",
       "75%       15055.500000      198050.000000      42.750000   \n",
       "max       40000.000000      849420.000000    1948.500000   \n",
       "\n",
       "       Absolute magnitude (Mv)   Star type  \n",
       "count               240.000000  240.000000  \n",
       "mean                  4.382396    2.500000  \n",
       "std                  10.532512    1.711394  \n",
       "min                 -11.920000    0.000000  \n",
       "25%                  -6.232500    1.000000  \n",
       "50%                   8.313000    2.500000  \n",
       "75%                  13.697500    4.000000  \n",
       "max                  20.060000    5.000000  "
      ]
     },
     "execution_count": 66,
     "metadata": {},
     "output_type": "execute_result"
    }
   ],
   "source": [
    "# Do it.\n",
    "newDf = df\n",
    "newDf.describe()"
   ]
  },
  {
   "cell_type": "markdown",
   "metadata": {},
   "source": [
    "Display the names of all the columns in the dataset in the form of an Index object."
   ]
  },
  {
   "cell_type": "code",
   "execution_count": 67,
   "id": "1d1512c6",
   "metadata": {
    "execution": {
     "iopub.execute_input": "2023-03-09T10:46:16.223548Z",
     "iopub.status.busy": "2023-03-09T10:46:16.222295Z",
     "iopub.status.idle": "2023-03-09T10:46:16.230443Z",
     "shell.execute_reply": "2023-03-09T10:46:16.229442Z"
    },
    "id": "G_8EXMzWU5WW",
    "outputId": "e6a1de0f-d1ef-44d6-ccec-d7b0a89f58fe",
    "papermill": {
     "duration": 0.018621,
     "end_time": "2023-03-09T10:46:16.232819",
     "exception": false,
     "start_time": "2023-03-09T10:46:16.214198",
     "status": "completed"
    },
    "tags": []
   },
   "outputs": [
    {
     "data": {
      "text/plain": [
       "Index(['Temperature (K)', 'Luminosity (L/Lo)', 'Radius (R/Ro)',\n",
       "       'Absolute magnitude (Mv)', 'Star type', 'Star category', 'Star color',\n",
       "       'Spectral Class'],\n",
       "      dtype='object')"
      ]
     },
     "execution_count": 67,
     "metadata": {},
     "output_type": "execute_result"
    }
   ],
   "source": [
    "# Do it.\n",
    "# colNames = df.columns\n",
    "colNames = df.keys()\n",
    "# colNames = list(df)\n",
    "# colNames = [col for col in df]\n",
    "# colNames = df.iloc[0,:]\n",
    "colNames\n"
   ]
  },
  {
   "cell_type": "markdown",
   "metadata": {},
   "source": [
    "In this dataset, how many data are there from each spectral class? Display it."
   ]
  },
  {
   "cell_type": "code",
   "execution_count": 68,
   "id": "44e05509",
   "metadata": {
    "execution": {
     "iopub.execute_input": "2023-03-09T10:46:16.249111Z",
     "iopub.status.busy": "2023-03-09T10:46:16.247837Z",
     "iopub.status.idle": "2023-03-09T10:46:16.263577Z",
     "shell.execute_reply": "2023-03-09T10:46:16.262182Z"
    },
    "id": "cXKbh7DzAMZ9",
    "outputId": "3527f48f-da5d-4ab2-94b3-9b04a0e911dd",
    "papermill": {
     "duration": 0.027027,
     "end_time": "2023-03-09T10:46:16.266469",
     "exception": false,
     "start_time": "2023-03-09T10:46:16.239442",
     "status": "completed"
    },
    "tags": []
   },
   "outputs": [
    {
     "data": {
      "text/plain": [
       "M    111\n",
       "B     46\n",
       "O     40\n",
       "A     19\n",
       "F     17\n",
       "K      6\n",
       "G      1\n",
       "Name: Spectral Class, dtype: int64"
      ]
     },
     "execution_count": 68,
     "metadata": {},
     "output_type": "execute_result"
    }
   ],
   "source": [
    "# Do it.\n",
    "spectralClassCounts = df[\"Spectral Class\"].value_counts()\n",
    "spectralClassCounts"
   ]
  },
  {
   "cell_type": "markdown",
   "metadata": {},
   "source": [
    "Replace the spectral class that has the largest number of data in the dataset with the value $0$ and the rest of the spectral classes with the value $1$."
   ]
  },
  {
   "cell_type": "code",
   "execution_count": 69,
   "id": "42fafea8",
   "metadata": {
    "execution": {
     "iopub.execute_input": "2023-03-09T10:46:16.282626Z",
     "iopub.status.busy": "2023-03-09T10:46:16.281702Z",
     "iopub.status.idle": "2023-03-09T10:46:16.289941Z",
     "shell.execute_reply": "2023-03-09T10:46:16.288927Z"
    },
    "id": "d9Y-SSJ3zxue",
    "papermill": {
     "duration": 0.019146,
     "end_time": "2023-03-09T10:46:16.292398",
     "exception": false,
     "start_time": "2023-03-09T10:46:16.273252",
     "status": "completed"
    },
    "tags": []
   },
   "outputs": [],
   "source": [
    "# Do it.\n",
    "largestSpectral = spectralClassCounts.idxmax()\n",
    "df['Spectral Class'] = df['Spectral Class'].replace(largestSpectral, 0)\n",
    "df['Spectral Class'] = df['Spectral Class'].apply(lambda x: 1 if x != 0 else 0)"
   ]
  },
  {
   "cell_type": "markdown",
   "metadata": {},
   "source": [
    "In your opinion, why did we replace the spectral class with the largest number of data with the value $0$ and the rest of the spectral classes with the value $1$? Write your analysis."
   ]
  },
  {
   "cell_type": "markdown",
   "metadata": {},
   "source": [
    ">\n",
    "> it's classification problem so we want to train our model in binary situation for applying sigmoid ReLu or ... funcs\n",
    ">"
   ]
  },
  {
   "cell_type": "markdown",
   "metadata": {},
   "source": [
    "How many data of each type of star are there in this dataset? Display it."
   ]
  },
  {
   "cell_type": "code",
   "execution_count": 70,
   "id": "20e65c1d",
   "metadata": {
    "execution": {
     "iopub.execute_input": "2023-03-09T10:46:16.307999Z",
     "iopub.status.busy": "2023-03-09T10:46:16.307544Z",
     "iopub.status.idle": "2023-03-09T10:46:16.317923Z",
     "shell.execute_reply": "2023-03-09T10:46:16.316821Z"
    },
    "id": "d7s9KFqRApFa",
    "outputId": "ed01dd5d-0192-4105-d22b-2f459b88550b",
    "papermill": {
     "duration": 0.021162,
     "end_time": "2023-03-09T10:46:16.320287",
     "exception": false,
     "start_time": "2023-03-09T10:46:16.299125",
     "status": "completed"
    },
    "tags": []
   },
   "outputs": [
    {
     "data": {
      "text/plain": [
       "0    40\n",
       "1    40\n",
       "2    40\n",
       "3    40\n",
       "4    40\n",
       "5    40\n",
       "Name: Star type, dtype: int64"
      ]
     },
     "execution_count": 70,
     "metadata": {},
     "output_type": "execute_result"
    }
   ],
   "source": [
    "# Do it.\n",
    "starTypeCounts = df['Star type'].value_counts()\n",
    "starTypeCounts"
   ]
  },
  {
   "cell_type": "markdown",
   "metadata": {},
   "source": [
    "In the star color column, replace **red** color with value $0$, **yellow** color with value $1$, **white** color with value $2$ and **blue** color with value $3$."
   ]
  },
  {
   "cell_type": "code",
   "execution_count": 71,
   "id": "6c820ad3",
   "metadata": {
    "execution": {
     "iopub.execute_input": "2023-03-09T10:46:16.337742Z",
     "iopub.status.busy": "2023-03-09T10:46:16.336499Z",
     "iopub.status.idle": "2023-03-09T10:46:16.344742Z",
     "shell.execute_reply": "2023-03-09T10:46:16.343785Z"
    },
    "id": "gxMdpWGrtxSJ",
    "papermill": {
     "duration": 0.020106,
     "end_time": "2023-03-09T10:46:16.347265",
     "exception": false,
     "start_time": "2023-03-09T10:46:16.327159",
     "status": "completed"
    },
    "tags": []
   },
   "outputs": [],
   "source": [
    "# Do it.\n",
    "df['Star color'] = df['Star color'].replace({'Red': 0, 'Yellow': 1, 'White': 2, 'Blue': 3})"
   ]
  },
  {
   "cell_type": "markdown",
   "metadata": {},
   "source": [
    "## Part 2: Machine Learning"
   ]
  },
  {
   "cell_type": "markdown",
   "metadata": {},
   "source": [
    "Consider the **temperature**, **luminosity**, **radius** and **absolute magnitude** of the star as *features* and the **spectral class** of the star as *target*."
   ]
  },
  {
   "cell_type": "code",
   "execution_count": 72,
   "id": "a1248243",
   "metadata": {
    "execution": {
     "iopub.execute_input": "2023-03-09T10:46:16.392863Z",
     "iopub.status.busy": "2023-03-09T10:46:16.392021Z",
     "iopub.status.idle": "2023-03-09T10:46:16.399398Z",
     "shell.execute_reply": "2023-03-09T10:46:16.398165Z"
    },
    "id": "Kwc4B6zoWYUg",
    "papermill": {
     "duration": 0.018759,
     "end_time": "2023-03-09T10:46:16.402003",
     "exception": false,
     "start_time": "2023-03-09T10:46:16.383244",
     "status": "completed"
    },
    "tags": []
   },
   "outputs": [
    {
     "data": {
      "text/html": [
       "<div>\n",
       "<style scoped>\n",
       "    .dataframe tbody tr th:only-of-type {\n",
       "        vertical-align: middle;\n",
       "    }\n",
       "\n",
       "    .dataframe tbody tr th {\n",
       "        vertical-align: top;\n",
       "    }\n",
       "\n",
       "    .dataframe thead th {\n",
       "        text-align: right;\n",
       "    }\n",
       "</style>\n",
       "<table border=\"1\" class=\"dataframe\">\n",
       "  <thead>\n",
       "    <tr style=\"text-align: right;\">\n",
       "      <th></th>\n",
       "      <th>Temperature (K)</th>\n",
       "      <th>Luminosity (L/Lo)</th>\n",
       "      <th>Radius (R/Ro)</th>\n",
       "      <th>Absolute magnitude (Mv)</th>\n",
       "      <th>Spectral Class</th>\n",
       "    </tr>\n",
       "  </thead>\n",
       "  <tbody>\n",
       "    <tr>\n",
       "      <th>0</th>\n",
       "      <td>3068</td>\n",
       "      <td>0.002400</td>\n",
       "      <td>0.1700</td>\n",
       "      <td>16.12</td>\n",
       "      <td>0</td>\n",
       "    </tr>\n",
       "    <tr>\n",
       "      <th>1</th>\n",
       "      <td>3042</td>\n",
       "      <td>0.000500</td>\n",
       "      <td>0.1542</td>\n",
       "      <td>16.60</td>\n",
       "      <td>0</td>\n",
       "    </tr>\n",
       "    <tr>\n",
       "      <th>2</th>\n",
       "      <td>2600</td>\n",
       "      <td>0.000300</td>\n",
       "      <td>0.1020</td>\n",
       "      <td>18.70</td>\n",
       "      <td>0</td>\n",
       "    </tr>\n",
       "    <tr>\n",
       "      <th>3</th>\n",
       "      <td>2800</td>\n",
       "      <td>0.000200</td>\n",
       "      <td>0.1600</td>\n",
       "      <td>16.65</td>\n",
       "      <td>0</td>\n",
       "    </tr>\n",
       "    <tr>\n",
       "      <th>4</th>\n",
       "      <td>1939</td>\n",
       "      <td>0.000138</td>\n",
       "      <td>0.1030</td>\n",
       "      <td>20.06</td>\n",
       "      <td>0</td>\n",
       "    </tr>\n",
       "    <tr>\n",
       "      <th>...</th>\n",
       "      <td>...</td>\n",
       "      <td>...</td>\n",
       "      <td>...</td>\n",
       "      <td>...</td>\n",
       "      <td>...</td>\n",
       "    </tr>\n",
       "    <tr>\n",
       "      <th>235</th>\n",
       "      <td>38940</td>\n",
       "      <td>374830.000000</td>\n",
       "      <td>1356.0000</td>\n",
       "      <td>-9.93</td>\n",
       "      <td>1</td>\n",
       "    </tr>\n",
       "    <tr>\n",
       "      <th>236</th>\n",
       "      <td>30839</td>\n",
       "      <td>834042.000000</td>\n",
       "      <td>1194.0000</td>\n",
       "      <td>-10.63</td>\n",
       "      <td>1</td>\n",
       "    </tr>\n",
       "    <tr>\n",
       "      <th>237</th>\n",
       "      <td>8829</td>\n",
       "      <td>537493.000000</td>\n",
       "      <td>1423.0000</td>\n",
       "      <td>-10.73</td>\n",
       "      <td>1</td>\n",
       "    </tr>\n",
       "    <tr>\n",
       "      <th>238</th>\n",
       "      <td>9235</td>\n",
       "      <td>404940.000000</td>\n",
       "      <td>1112.0000</td>\n",
       "      <td>-11.23</td>\n",
       "      <td>1</td>\n",
       "    </tr>\n",
       "    <tr>\n",
       "      <th>239</th>\n",
       "      <td>37882</td>\n",
       "      <td>294903.000000</td>\n",
       "      <td>1783.0000</td>\n",
       "      <td>-7.80</td>\n",
       "      <td>1</td>\n",
       "    </tr>\n",
       "  </tbody>\n",
       "</table>\n",
       "<p>240 rows × 5 columns</p>\n",
       "</div>"
      ],
      "text/plain": [
       "     Temperature (K)  Luminosity (L/Lo)  Radius (R/Ro)  \\\n",
       "0               3068           0.002400         0.1700   \n",
       "1               3042           0.000500         0.1542   \n",
       "2               2600           0.000300         0.1020   \n",
       "3               2800           0.000200         0.1600   \n",
       "4               1939           0.000138         0.1030   \n",
       "..               ...                ...            ...   \n",
       "235            38940      374830.000000      1356.0000   \n",
       "236            30839      834042.000000      1194.0000   \n",
       "237             8829      537493.000000      1423.0000   \n",
       "238             9235      404940.000000      1112.0000   \n",
       "239            37882      294903.000000      1783.0000   \n",
       "\n",
       "     Absolute magnitude (Mv)  Spectral Class  \n",
       "0                      16.12               0  \n",
       "1                      16.60               0  \n",
       "2                      18.70               0  \n",
       "3                      16.65               0  \n",
       "4                      20.06               0  \n",
       "..                       ...             ...  \n",
       "235                    -9.93               1  \n",
       "236                   -10.63               1  \n",
       "237                   -10.73               1  \n",
       "238                   -11.23               1  \n",
       "239                    -7.80               1  \n",
       "\n",
       "[240 rows x 5 columns]"
      ]
     },
     "execution_count": 72,
     "metadata": {},
     "output_type": "execute_result"
    }
   ],
   "source": [
    "# Do it.\n",
    "features = df[['Temperature (K)', 'Luminosity (L/Lo)', 'Radius (R/Ro)', 'Absolute magnitude (Mv)']]\n",
    "target = df['Spectral Class']\n",
    "Data = features.join(target)\n",
    "Data"
   ]
  },
  {
   "cell_type": "markdown",
   "metadata": {},
   "source": [
    "Consider $80\\%$ of the data as *train* data and the remaining $20\\%$ as *test* data.\n",
    "\n",
    "> Pay attention that there should be no order in separating the data and the data should be separated completely randomly."
   ]
  },
  {
   "cell_type": "code",
   "execution_count": 77,
   "id": "a84d18e5",
   "metadata": {
    "execution": {
     "iopub.execute_input": "2023-03-09T10:46:16.418550Z",
     "iopub.status.busy": "2023-03-09T10:46:16.418155Z",
     "iopub.status.idle": "2023-03-09T10:46:17.609273Z",
     "shell.execute_reply": "2023-03-09T10:46:17.607830Z"
    },
    "id": "Uh4Qx-WmXbcE",
    "papermill": {
     "duration": 1.202641,
     "end_time": "2023-03-09T10:46:17.612174",
     "exception": false,
     "start_time": "2023-03-09T10:46:16.409533",
     "status": "completed"
    },
    "tags": []
   },
   "outputs": [],
   "source": [
    "# Do it.\n",
    "train_data, test_data = train_test_split(Data, test_size=0.2, random_state=42, shuffle=True)\n",
    "X_train ,X_test ,Y_train ,Y_test = train_test_split(features ,target ,test_size=0.2, random_state=42)"
   ]
  },
  {
   "cell_type": "markdown",
   "metadata": {},
   "source": [
    "Use the Logistic regression model and fit it on the *train* data."
   ]
  },
  {
   "cell_type": "code",
   "execution_count": 74,
   "id": "cf4ebfd8",
   "metadata": {
    "execution": {
     "iopub.execute_input": "2023-03-09T10:46:17.629173Z",
     "iopub.status.busy": "2023-03-09T10:46:17.628418Z",
     "iopub.status.idle": "2023-03-09T10:46:17.747645Z",
     "shell.execute_reply": "2023-03-09T10:46:17.746414Z"
    },
    "id": "B4G93PVhYjyl",
    "papermill": {
     "duration": 0.131497,
     "end_time": "2023-03-09T10:46:17.751168",
     "exception": false,
     "start_time": "2023-03-09T10:46:17.619671",
     "status": "completed"
    },
    "tags": []
   },
   "outputs": [],
   "source": [
    "# Do it.\n",
    "logreg = LogisticRegression()\n",
    "logreg.fit(X_train,Y_train)"
   ]
  },
  {
   "cell_type": "markdown",
   "metadata": {},
   "source": [
    "Using the model you built, make predictions for the *test* data and display your predictions."
   ]
  },
  {
   "cell_type": "code",
   "execution_count": 75,
   "id": "33fe201a",
   "metadata": {
    "execution": {
     "iopub.execute_input": "2023-03-09T10:46:17.830765Z",
     "iopub.status.busy": "2023-03-09T10:46:17.830276Z",
     "iopub.status.idle": "2023-03-09T10:46:17.837787Z",
     "shell.execute_reply": "2023-03-09T10:46:17.836418Z"
    },
    "id": "9zj_do5MZ7ro",
    "papermill": {
     "duration": 0.018863,
     "end_time": "2023-03-09T10:46:17.840356",
     "exception": false,
     "start_time": "2023-03-09T10:46:17.821493",
     "status": "completed"
    },
    "tags": []
   },
   "outputs": [],
   "source": [
    "# Do it."
   ]
  },
  {
   "cell_type": "markdown",
   "metadata": {},
   "source": [
    "Get the accuracy of your model to predict unseen data."
   ]
  },
  {
   "cell_type": "code",
   "execution_count": 76,
   "id": "74cb8fb4",
   "metadata": {
    "execution": {
     "iopub.execute_input": "2023-03-09T10:46:17.884345Z",
     "iopub.status.busy": "2023-03-09T10:46:17.882887Z",
     "iopub.status.idle": "2023-03-09T10:46:17.889019Z",
     "shell.execute_reply": "2023-03-09T10:46:17.888053Z"
    },
    "id": "LeG8eFnKAUII",
    "papermill": {
     "duration": 0.017049,
     "end_time": "2023-03-09T10:46:17.891369",
     "exception": false,
     "start_time": "2023-03-09T10:46:17.874320",
     "status": "completed"
    },
    "tags": []
   },
   "outputs": [],
   "source": [
    "# Do it."
   ]
  }
 ],
 "metadata": {
  "kernelspec": {
   "display_name": "Python 3",
   "language": "python",
   "name": "python3"
  },
  "language_info": {
   "codemirror_mode": {
    "name": "ipython",
    "version": 3
   },
   "file_extension": ".py",
   "mimetype": "text/x-python",
   "name": "python",
   "nbconvert_exporter": "python",
   "pygments_lexer": "ipython3",
   "version": "3.11.1"
  },
  "papermill": {
   "default_parameters": {},
   "duration": 14.006381,
   "end_time": "2023-03-09T10:46:18.799231",
   "environment_variables": {},
   "exception": null,
   "input_path": "__notebook__.ipynb",
   "output_path": "__notebook__.ipynb",
   "parameters": {},
   "start_time": "2023-03-09T10:46:04.792850",
   "version": "2.4.0"
  }
 },
 "nbformat": 4,
 "nbformat_minor": 5
}
