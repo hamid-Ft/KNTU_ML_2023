{
 "cells": [
  {
   "cell_type": "markdown",
   "id": "51cd8e4a",
   "metadata": {
    "id": "0qGrVrvcp--0",
    "papermill": {
     "duration": 0.007509,
     "end_time": "2023-03-09T10:46:15.583686",
     "exception": false,
     "start_time": "2023-03-09T10:46:15.576177",
     "status": "completed"
    },
    "tags": []
   },
   "source": [
    "# Special Topics I Problem Set 5 (Classification)"
   ]
  },
  {
   "cell_type": "markdown",
   "metadata": {},
   "source": [
    "First of all, download the dataset needed to do this exercise from this <a href=\"https://github.com/mzhoolideh/KNTU_ML_2023/blob/main/data/ps5data.csv\">link</a>."
   ]
  },
  {
   "cell_type": "markdown",
   "id": "28d99cba",
   "metadata": {
    "id": "99ybK23wexQB",
    "papermill": {
     "duration": 0.005634,
     "end_time": "2023-03-09T10:46:15.596050",
     "exception": false,
     "start_time": "2023-03-09T10:46:15.590416",
     "status": "completed"
    },
    "tags": []
   },
   "source": [
    "The dataset provided to you includes several features of stars.\n",
    "\n",
    "Some of them are:\n",
    "\n",
    "- Absolute Temperature (in $K$)\n",
    "- Relative Luminosity ($L/L_{\\odot}$)\n",
    "- Relative Radius ($R/R_{\\odot}$)\n",
    "- Absolute Magnitude ($M_{v}$)\n",
    "- Star Color (**White**, **Red**, **Blue**, **Yellow**, **yellow-orange** etc)\n",
    "- Spectral Class (**O**, **B**, **A**, **F**, **G**, **K**, **M**)\n",
    "- Star Type (**Red Dwarf**, **Brown Dwarf**, **White Dwarf**, **Main Sequence**, **SuperGiants**, **HyperGiants**)\n",
    "- $L_{\\odot} = 3.828 \\times 10^{26} \\; \\text{Watts}$ (Average Luminosity of Sun)\n",
    "- $R_{\\odot} = 6.9551 \\times 10^{8} \\; \\text{m}$ (Average Radius of Sun)"
   ]
  },
  {
   "cell_type": "markdown",
   "metadata": {},
   "source": [
    "Import necessary libraries"
   ]
  },
  {
   "cell_type": "code",
   "execution_count": null,
   "id": "41ecf60a",
   "metadata": {
    "execution": {
     "iopub.execute_input": "2023-03-09T10:46:15.609865Z",
     "iopub.status.busy": "2023-03-09T10:46:15.609398Z",
     "iopub.status.idle": "2023-03-09T10:46:15.619817Z",
     "shell.execute_reply": "2023-03-09T10:46:15.618591Z"
    },
    "id": "H2oCFJGuy37u",
    "papermill": {
     "duration": 0.020493,
     "end_time": "2023-03-09T10:46:15.622480",
     "exception": false,
     "start_time": "2023-03-09T10:46:15.601987",
     "status": "completed"
    },
    "tags": []
   },
   "outputs": [],
   "source": [
    "# Do it."
   ]
  },
  {
   "cell_type": "markdown",
   "metadata": {},
   "source": [
    "Read the dataset and store it in a variable."
   ]
  },
  {
   "cell_type": "code",
   "execution_count": null,
   "id": "8eb67146",
   "metadata": {
    "execution": {
     "iopub.execute_input": "2023-03-09T10:46:15.636860Z",
     "iopub.status.busy": "2023-03-09T10:46:15.636026Z",
     "iopub.status.idle": "2023-03-09T10:46:16.065580Z",
     "shell.execute_reply": "2023-03-09T10:46:16.064219Z"
    },
    "id": "pvrtYImUy7hC",
    "papermill": {
     "duration": 0.439824,
     "end_time": "2023-03-09T10:46:16.068421",
     "exception": false,
     "start_time": "2023-03-09T10:46:15.628597",
     "status": "completed"
    },
    "tags": []
   },
   "outputs": [],
   "source": [
    "# Do it."
   ]
  },
  {
   "cell_type": "markdown",
   "metadata": {},
   "source": [
    "## Part 1: Data Analysis and Preprocessing"
   ]
  },
  {
   "cell_type": "markdown",
   "metadata": {},
   "source": [
    "Display the first $5$ rows of the dataset."
   ]
  },
  {
   "cell_type": "code",
   "execution_count": null,
   "id": "370e9190",
   "metadata": {
    "execution": {
     "iopub.execute_input": "2023-03-09T10:46:16.082890Z",
     "iopub.status.busy": "2023-03-09T10:46:16.081732Z",
     "iopub.status.idle": "2023-03-09T10:46:16.111812Z",
     "shell.execute_reply": "2023-03-09T10:46:16.110574Z"
    },
    "id": "ltkYXmdz-_z3",
    "outputId": "65f6131d-230b-491f-e662-38ef3296ee70",
    "papermill": {
     "duration": 0.040736,
     "end_time": "2023-03-09T10:46:16.115161",
     "exception": false,
     "start_time": "2023-03-09T10:46:16.074425",
     "status": "completed"
    },
    "tags": []
   },
   "outputs": [],
   "source": [
    "# Do it."
   ]
  },
  {
   "cell_type": "markdown",
   "metadata": {},
   "source": [
    "Is there any missing data in the dataset provided to you? Show the number of missing data in each column of the dataset."
   ]
  },
  {
   "cell_type": "code",
   "execution_count": null,
   "metadata": {},
   "outputs": [],
   "source": [
    "# Do it."
   ]
  },
  {
   "cell_type": "markdown",
   "metadata": {},
   "source": [
    "Display the number of non-null data in each column, the datatype of the data in each column, and the size of the dataset in the RAM space of your system."
   ]
  },
  {
   "cell_type": "code",
   "execution_count": null,
   "id": "dcbff7e1",
   "metadata": {
    "execution": {
     "iopub.execute_input": "2023-03-09T10:46:16.129558Z",
     "iopub.status.busy": "2023-03-09T10:46:16.129164Z",
     "iopub.status.idle": "2023-03-09T10:46:16.155166Z",
     "shell.execute_reply": "2023-03-09T10:46:16.153515Z"
    },
    "id": "f0XHmtvL_CGZ",
    "outputId": "4fe51aba-15f6-4863-efe5-af86ba344be0",
    "papermill": {
     "duration": 0.036582,
     "end_time": "2023-03-09T10:46:16.157996",
     "exception": false,
     "start_time": "2023-03-09T10:46:16.121414",
     "status": "completed"
    },
    "tags": []
   },
   "outputs": [],
   "source": [
    "# Do it."
   ]
  },
  {
   "cell_type": "markdown",
   "metadata": {},
   "source": [
    "Display the **count**, **mean**, **standard deviation**, **minimum**, **first quartile**, **median**, **third quartile**, and **maximum** data of numeric columns from this dataset in another dataset."
   ]
  },
  {
   "cell_type": "code",
   "execution_count": null,
   "id": "189a3983",
   "metadata": {
    "execution": {
     "iopub.execute_input": "2023-03-09T10:46:16.173453Z",
     "iopub.status.busy": "2023-03-09T10:46:16.172549Z",
     "iopub.status.idle": "2023-03-09T10:46:16.204642Z",
     "shell.execute_reply": "2023-03-09T10:46:16.203325Z"
    },
    "id": "tmpkna_P4Wnn",
    "outputId": "89f9b65e-0636-4022-8721-13fbd9a9177f",
    "papermill": {
     "duration": 0.04307,
     "end_time": "2023-03-09T10:46:16.207436",
     "exception": false,
     "start_time": "2023-03-09T10:46:16.164366",
     "status": "completed"
    },
    "tags": []
   },
   "outputs": [],
   "source": [
    "# Do it."
   ]
  },
  {
   "cell_type": "markdown",
   "metadata": {},
   "source": [
    "Display the names of all the columns in the dataset in the form of an Index object."
   ]
  },
  {
   "cell_type": "code",
   "execution_count": null,
   "id": "1d1512c6",
   "metadata": {
    "execution": {
     "iopub.execute_input": "2023-03-09T10:46:16.223548Z",
     "iopub.status.busy": "2023-03-09T10:46:16.222295Z",
     "iopub.status.idle": "2023-03-09T10:46:16.230443Z",
     "shell.execute_reply": "2023-03-09T10:46:16.229442Z"
    },
    "id": "G_8EXMzWU5WW",
    "outputId": "e6a1de0f-d1ef-44d6-ccec-d7b0a89f58fe",
    "papermill": {
     "duration": 0.018621,
     "end_time": "2023-03-09T10:46:16.232819",
     "exception": false,
     "start_time": "2023-03-09T10:46:16.214198",
     "status": "completed"
    },
    "tags": []
   },
   "outputs": [],
   "source": [
    "# Do it."
   ]
  },
  {
   "cell_type": "markdown",
   "metadata": {},
   "source": [
    "In this dataset, how many data are there from each spectral class? Display it."
   ]
  },
  {
   "cell_type": "code",
   "execution_count": null,
   "id": "44e05509",
   "metadata": {
    "execution": {
     "iopub.execute_input": "2023-03-09T10:46:16.249111Z",
     "iopub.status.busy": "2023-03-09T10:46:16.247837Z",
     "iopub.status.idle": "2023-03-09T10:46:16.263577Z",
     "shell.execute_reply": "2023-03-09T10:46:16.262182Z"
    },
    "id": "cXKbh7DzAMZ9",
    "outputId": "3527f48f-da5d-4ab2-94b3-9b04a0e911dd",
    "papermill": {
     "duration": 0.027027,
     "end_time": "2023-03-09T10:46:16.266469",
     "exception": false,
     "start_time": "2023-03-09T10:46:16.239442",
     "status": "completed"
    },
    "tags": []
   },
   "outputs": [],
   "source": [
    "# Do it."
   ]
  },
  {
   "cell_type": "markdown",
   "metadata": {},
   "source": [
    "Replace the spectral class that has the largest number of data in the dataset with the value $0$ and the rest of the spectral classes with the value $1$."
   ]
  },
  {
   "cell_type": "code",
   "execution_count": null,
   "id": "42fafea8",
   "metadata": {
    "execution": {
     "iopub.execute_input": "2023-03-09T10:46:16.282626Z",
     "iopub.status.busy": "2023-03-09T10:46:16.281702Z",
     "iopub.status.idle": "2023-03-09T10:46:16.289941Z",
     "shell.execute_reply": "2023-03-09T10:46:16.288927Z"
    },
    "id": "d9Y-SSJ3zxue",
    "papermill": {
     "duration": 0.019146,
     "end_time": "2023-03-09T10:46:16.292398",
     "exception": false,
     "start_time": "2023-03-09T10:46:16.273252",
     "status": "completed"
    },
    "tags": []
   },
   "outputs": [],
   "source": [
    "# Do it."
   ]
  },
  {
   "cell_type": "markdown",
   "metadata": {},
   "source": [
    "In your opinion, why did we replace the spectral class with the largest number of data with the value $0$ and the rest of the spectral classes with the value $1$? Write your analysis."
   ]
  },
  {
   "cell_type": "markdown",
   "metadata": {},
   "source": []
  },
  {
   "cell_type": "markdown",
   "metadata": {},
   "source": [
    "How many data of each type of star are there in this dataset? Display it."
   ]
  },
  {
   "cell_type": "code",
   "execution_count": null,
   "id": "20e65c1d",
   "metadata": {
    "execution": {
     "iopub.execute_input": "2023-03-09T10:46:16.307999Z",
     "iopub.status.busy": "2023-03-09T10:46:16.307544Z",
     "iopub.status.idle": "2023-03-09T10:46:16.317923Z",
     "shell.execute_reply": "2023-03-09T10:46:16.316821Z"
    },
    "id": "d7s9KFqRApFa",
    "outputId": "ed01dd5d-0192-4105-d22b-2f459b88550b",
    "papermill": {
     "duration": 0.021162,
     "end_time": "2023-03-09T10:46:16.320287",
     "exception": false,
     "start_time": "2023-03-09T10:46:16.299125",
     "status": "completed"
    },
    "tags": []
   },
   "outputs": [],
   "source": [
    "# Do it."
   ]
  },
  {
   "cell_type": "markdown",
   "metadata": {},
   "source": [
    "In the star color column, replace **red** color with value $0$, **yellow** color with value $1$, **white** color with value $2$ and **blue** color with value $3$."
   ]
  },
  {
   "cell_type": "code",
   "execution_count": null,
   "id": "6c820ad3",
   "metadata": {
    "execution": {
     "iopub.execute_input": "2023-03-09T10:46:16.337742Z",
     "iopub.status.busy": "2023-03-09T10:46:16.336499Z",
     "iopub.status.idle": "2023-03-09T10:46:16.344742Z",
     "shell.execute_reply": "2023-03-09T10:46:16.343785Z"
    },
    "id": "gxMdpWGrtxSJ",
    "papermill": {
     "duration": 0.020106,
     "end_time": "2023-03-09T10:46:16.347265",
     "exception": false,
     "start_time": "2023-03-09T10:46:16.327159",
     "status": "completed"
    },
    "tags": []
   },
   "outputs": [],
   "source": [
    "# Do it."
   ]
  },
  {
   "cell_type": "markdown",
   "metadata": {},
   "source": [
    "## Part 2: Machine Learning"
   ]
  },
  {
   "cell_type": "markdown",
   "metadata": {},
   "source": [
    "Consider the **temperature**, **luminosity**, **radius** and **absolute magnitude** of the star as *features* and the **spectral class** of the star as *target*."
   ]
  },
  {
   "cell_type": "code",
   "execution_count": null,
   "id": "a1248243",
   "metadata": {
    "execution": {
     "iopub.execute_input": "2023-03-09T10:46:16.392863Z",
     "iopub.status.busy": "2023-03-09T10:46:16.392021Z",
     "iopub.status.idle": "2023-03-09T10:46:16.399398Z",
     "shell.execute_reply": "2023-03-09T10:46:16.398165Z"
    },
    "id": "Kwc4B6zoWYUg",
    "papermill": {
     "duration": 0.018759,
     "end_time": "2023-03-09T10:46:16.402003",
     "exception": false,
     "start_time": "2023-03-09T10:46:16.383244",
     "status": "completed"
    },
    "tags": []
   },
   "outputs": [],
   "source": [
    "# Do it."
   ]
  },
  {
   "cell_type": "markdown",
   "metadata": {},
   "source": [
    "Consider $80\\%$ of the data as *train* data and the remaining $20\\%$ as *test* data.\n",
    "\n",
    "> Pay attention that there should be no order in separating the data and the data should be separated completely randomly."
   ]
  },
  {
   "cell_type": "code",
   "execution_count": null,
   "id": "a84d18e5",
   "metadata": {
    "execution": {
     "iopub.execute_input": "2023-03-09T10:46:16.418550Z",
     "iopub.status.busy": "2023-03-09T10:46:16.418155Z",
     "iopub.status.idle": "2023-03-09T10:46:17.609273Z",
     "shell.execute_reply": "2023-03-09T10:46:17.607830Z"
    },
    "id": "Uh4Qx-WmXbcE",
    "papermill": {
     "duration": 1.202641,
     "end_time": "2023-03-09T10:46:17.612174",
     "exception": false,
     "start_time": "2023-03-09T10:46:16.409533",
     "status": "completed"
    },
    "tags": []
   },
   "outputs": [],
   "source": [
    "# Do it."
   ]
  },
  {
   "cell_type": "markdown",
   "metadata": {},
   "source": [
    "Use the Logistic regression model and fit it on the *train* data."
   ]
  },
  {
   "cell_type": "code",
   "execution_count": null,
   "id": "cf4ebfd8",
   "metadata": {
    "execution": {
     "iopub.execute_input": "2023-03-09T10:46:17.629173Z",
     "iopub.status.busy": "2023-03-09T10:46:17.628418Z",
     "iopub.status.idle": "2023-03-09T10:46:17.747645Z",
     "shell.execute_reply": "2023-03-09T10:46:17.746414Z"
    },
    "id": "B4G93PVhYjyl",
    "papermill": {
     "duration": 0.131497,
     "end_time": "2023-03-09T10:46:17.751168",
     "exception": false,
     "start_time": "2023-03-09T10:46:17.619671",
     "status": "completed"
    },
    "tags": []
   },
   "outputs": [],
   "source": [
    "# Do it."
   ]
  },
  {
   "cell_type": "markdown",
   "metadata": {},
   "source": [
    "Using the model you built, make predictions for the *test* data and display your predictions."
   ]
  },
  {
   "cell_type": "code",
   "execution_count": null,
   "id": "33fe201a",
   "metadata": {
    "execution": {
     "iopub.execute_input": "2023-03-09T10:46:17.830765Z",
     "iopub.status.busy": "2023-03-09T10:46:17.830276Z",
     "iopub.status.idle": "2023-03-09T10:46:17.837787Z",
     "shell.execute_reply": "2023-03-09T10:46:17.836418Z"
    },
    "id": "9zj_do5MZ7ro",
    "papermill": {
     "duration": 0.018863,
     "end_time": "2023-03-09T10:46:17.840356",
     "exception": false,
     "start_time": "2023-03-09T10:46:17.821493",
     "status": "completed"
    },
    "tags": []
   },
   "outputs": [],
   "source": [
    "# Do it."
   ]
  },
  {
   "cell_type": "markdown",
   "metadata": {},
   "source": [
    "Get the accuracy of your model to predict unseen data."
   ]
  },
  {
   "cell_type": "code",
   "execution_count": null,
   "id": "74cb8fb4",
   "metadata": {
    "execution": {
     "iopub.execute_input": "2023-03-09T10:46:17.884345Z",
     "iopub.status.busy": "2023-03-09T10:46:17.882887Z",
     "iopub.status.idle": "2023-03-09T10:46:17.889019Z",
     "shell.execute_reply": "2023-03-09T10:46:17.888053Z"
    },
    "id": "LeG8eFnKAUII",
    "papermill": {
     "duration": 0.017049,
     "end_time": "2023-03-09T10:46:17.891369",
     "exception": false,
     "start_time": "2023-03-09T10:46:17.874320",
     "status": "completed"
    },
    "tags": []
   },
   "outputs": [],
   "source": [
    "# Do it."
   ]
  }
 ],
 "metadata": {
  "kernelspec": {
   "display_name": "Python 3",
   "language": "python",
   "name": "python3"
  },
  "language_info": {
   "codemirror_mode": {
    "name": "ipython",
    "version": 3
   },
   "file_extension": ".py",
   "mimetype": "text/x-python",
   "name": "python",
   "nbconvert_exporter": "python",
   "pygments_lexer": "ipython3",
   "version": "3.7.12"
  },
  "papermill": {
   "default_parameters": {},
   "duration": 14.006381,
   "end_time": "2023-03-09T10:46:18.799231",
   "environment_variables": {},
   "exception": null,
   "input_path": "__notebook__.ipynb",
   "output_path": "__notebook__.ipynb",
   "parameters": {},
   "start_time": "2023-03-09T10:46:04.792850",
   "version": "2.4.0"
  }
 },
 "nbformat": 4,
 "nbformat_minor": 5
}
